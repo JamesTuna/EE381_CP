{
 "cells": [
  {
   "cell_type": "code",
   "execution_count": 21,
   "id": "f7763f9e",
   "metadata": {},
   "outputs": [],
   "source": [
    "import pandas as pd\n",
    "import numpy as np\n",
    "import time, random\n",
    "from sklearn.preprocessing import RobustScaler, normalize\n",
    "from sklearn.model_selection import KFold\n",
    "\n",
    "from torch.utils.data import DataLoader\n",
    "from utils.myModel import *\n",
    "from utils.loader import *\n",
    "from pytorch_ranger import Ranger\n",
    "from torch.utils.tensorboard import SummaryWriter"
   ]
  },
  {
   "cell_type": "code",
   "execution_count": 22,
   "id": "360de476",
   "metadata": {},
   "outputs": [],
   "source": [
    "# one of the top used feature engineering functions from kaggle users\n",
    "def add_features(df):\n",
    "    df['area'] = df['time_step'] * df['u_in']\n",
    "    df['area'] = df.groupby('breath_id')['area'].cumsum()\n",
    "    \n",
    "    df['u_in_cumsum'] = (df['u_in']).groupby(df['breath_id']).cumsum()\n",
    "    \n",
    "    df['u_in_lag1'] = df.groupby('breath_id')['u_in'].shift(1)\n",
    "    df['u_out_lag1'] = df.groupby('breath_id')['u_out'].shift(1)\n",
    "    df['u_in_lag_back1'] = df.groupby('breath_id')['u_in'].shift(-1)\n",
    "    df['u_out_lag_back1'] = df.groupby('breath_id')['u_out'].shift(-1)\n",
    "    df['u_in_lag2'] = df.groupby('breath_id')['u_in'].shift(2)\n",
    "    df['u_out_lag2'] = df.groupby('breath_id')['u_out'].shift(2)\n",
    "    df['u_in_lag_back2'] = df.groupby('breath_id')['u_in'].shift(-2)\n",
    "    df['u_out_lag_back2'] = df.groupby('breath_id')['u_out'].shift(-2)\n",
    "    df['u_in_lag3'] = df.groupby('breath_id')['u_in'].shift(3)\n",
    "    df['u_out_lag3'] = df.groupby('breath_id')['u_out'].shift(3)\n",
    "    df['u_in_lag_back3'] = df.groupby('breath_id')['u_in'].shift(-3)\n",
    "    df['u_out_lag_back3'] = df.groupby('breath_id')['u_out'].shift(-3)\n",
    "    df['u_in_lag4'] = df.groupby('breath_id')['u_in'].shift(4)\n",
    "    df['u_out_lag4'] = df.groupby('breath_id')['u_out'].shift(4)\n",
    "    df['u_in_lag_back4'] = df.groupby('breath_id')['u_in'].shift(-4)\n",
    "    df['u_out_lag_back4'] = df.groupby('breath_id')['u_out'].shift(-4)\n",
    "    df = df.fillna(0)\n",
    "    \n",
    "    df['breath_id__u_in__max'] = df.groupby(['breath_id'])['u_in'].transform('max')\n",
    "    df['breath_id__u_out__max'] = df.groupby(['breath_id'])['u_out'].transform('max')\n",
    "    \n",
    "    df['u_in_diff1'] = df['u_in'] - df['u_in_lag1']\n",
    "    df['u_out_diff1'] = df['u_out'] - df['u_out_lag1']\n",
    "    df['u_in_diff2'] = df['u_in'] - df['u_in_lag2']\n",
    "    df['u_out_diff2'] = df['u_out'] - df['u_out_lag2']\n",
    "    \n",
    "    df['breath_id__u_in__diffmax'] = df.groupby(['breath_id'])['u_in'].transform('max') - df['u_in']\n",
    "    df['breath_id__u_in__diffmean'] = df.groupby(['breath_id'])['u_in'].transform('mean') - df['u_in']\n",
    "    \n",
    "    df['breath_id__u_in__diffmax'] = df.groupby(['breath_id'])['u_in'].transform('max') - df['u_in']\n",
    "    df['breath_id__u_in__diffmean'] = df.groupby(['breath_id'])['u_in'].transform('mean') - df['u_in']\n",
    "    \n",
    "    df['u_in_diff3'] = df['u_in'] - df['u_in_lag3']\n",
    "    df['u_out_diff3'] = df['u_out'] - df['u_out_lag3']\n",
    "    df['u_in_diff4'] = df['u_in'] - df['u_in_lag4']\n",
    "    df['u_out_diff4'] = df['u_out'] - df['u_out_lag4']\n",
    "    df['cross']= df['u_in']*df['u_out']\n",
    "    df['cross2']= df['time_step']*df['u_out']\n",
    "    \n",
    "    df['R'] = df['R'].astype(str)\n",
    "    df['C'] = df['C'].astype(str)\n",
    "    df['R__C'] = df[\"R\"].astype(str) + '__' + df[\"C\"].astype(str)\n",
    "    df = pd.get_dummies(df)\n",
    "    return df"
   ]
  },
  {
   "cell_type": "code",
   "execution_count": 37,
   "id": "31c5bd5c",
   "metadata": {},
   "outputs": [
    {
     "name": "stdout",
     "output_type": "stream",
     "text": [
      "loading model from trial  T16h16GRU4_dropout0.00_largefs\n"
     ]
    }
   ],
   "source": [
    "class dummyArgs():\n",
    "    def __init__(self,boot_seed=1):\n",
    "        self.n_Tlayer = 16\n",
    "        self.n_head = 16\n",
    "        self.n_Elayer = 4\n",
    "        self.Etype = \"GRU\"\n",
    "        self.use_conv = False\n",
    "        self.dropout = 0\n",
    "        self.largefs = True\n",
    "        self.bootstrap = False\n",
    "        self.bootstrap_seed = boot_seed\n",
    "args = dummyArgs(0)\n",
    "trial_name = f\"T{args.n_Tlayer}h{args.n_head}{args.Etype}{args.n_Elayer}\"\n",
    "trial_name += \"conv\" if args.use_conv else \"\"\n",
    "trial_name += f\"_dropout{args.dropout:.2f}\"\n",
    "trial_name += \"_largefs\" if args.largefs else \"\"\n",
    "trial_name += f\"_embd256_boot{args.bootstrap_seed}\" if args.bootstrap else \"\"\n",
    "print(\"loading model from trial \",trial_name)"
   ]
  },
  {
   "cell_type": "code",
   "execution_count": 24,
   "id": "3d56c6d5",
   "metadata": {},
   "outputs": [
    {
     "name": "stdout",
     "output_type": "stream",
     "text": [
      "Loading data...\n",
      "feature engineering...\n",
      "Dropping id and labels...\n",
      "Normalizing...\n",
      "Reshaping...\n",
      "train: (75450, 80, 50)\n",
      "test: (50300, 80, 50)\n"
     ]
    }
   ],
   "source": [
    "print(\"Loading data...\")\n",
    "train = pd.read_csv('./data/train.csv')\n",
    "test = pd.read_csv('./data/test.csv')\n",
    "masks=np.array(train['u_out']==0).reshape(-1, 80) \n",
    "targets = train[['pressure']].to_numpy().reshape(-1, 80)\n",
    "\n",
    "if not args.largefs:\n",
    "    print(\"No feature engineering, One hot encoding...\")\n",
    "    for dset in ('train','test'):\n",
    "        df = eval(dset)\n",
    "        df['R'] = df['R'].astype(str)\n",
    "        df['C'] = df['C'].astype(str)\n",
    "        df = pd.get_dummies(df)\n",
    "        exec(f'{dset}=df')\n",
    "else:\n",
    "    print('feature engineering...')\n",
    "    train = add_features(train)\n",
    "    test = add_features(test)\n",
    "    \n",
    "print(\"Dropping id and labels...\")\n",
    "train.drop(['pressure', 'id', 'breath_id'], axis=1, inplace=True)\n",
    "test = test.drop(['id', 'breath_id'], axis=1)\n",
    "\n",
    "print(\"Normalizing...\")\n",
    "RS = RobustScaler()\n",
    "train = RS.fit_transform(train)\n",
    "test = RS.transform(test)\n",
    "\n",
    "print(\"Reshaping...\")\n",
    "train = train.reshape(-1, 80, train.shape[-1])\n",
    "test = test.reshape(-1, 80, train.shape[-1])\n",
    "\n",
    "print('train:',train.shape)\n",
    "print('test:',test.shape)\n",
    "\n",
    "kf = KFold(n_splits=10,shuffle=True,random_state=0) # forbid random_state, make some randomness between models in different runs"
   ]
  },
  {
   "cell_type": "code",
   "execution_count": 25,
   "id": "fecfd0c6",
   "metadata": {},
   "outputs": [],
   "source": [
    "val_features=[train[i] for i in list(kf.split(train))[0][1]]\n",
    "val_targets=[targets[i] for i in list(kf.split(targets))[0][1]]\n",
    "val_masks=[masks[i] for i in list(kf.split(targets))[0][1]]"
   ]
  },
  {
   "cell_type": "code",
   "execution_count": 26,
   "id": "7b5769e9",
   "metadata": {},
   "outputs": [],
   "source": [
    "val_dataset = TrainDataset(val_features,val_targets,val_masks)\n",
    "val_dataloader = DataLoader(val_dataset, batch_size=128, shuffle=False, num_workers=4)\n",
    "del val_features"
   ]
  },
  {
   "cell_type": "code",
   "execution_count": 27,
   "id": "b0223518",
   "metadata": {},
   "outputs": [
    {
     "name": "stdout",
     "output_type": "stream",
     "text": [
      "init model...\n"
     ]
    }
   ],
   "source": [
    "print(\"init model...\")\n",
    "model = MyModel(in_dim = train.shape[-1], out_dim = 1,embd_dim=256,\n",
    "                n_transformer_layers=args.n_Tlayer, nheads = args.n_head, dropout=args.dropout,\n",
    "                n_rnn_layers=args.n_Elayer, rnn_type = args.Etype,use_conv = args.use_conv).cuda()"
   ]
  },
  {
   "cell_type": "code",
   "execution_count": 38,
   "id": "6cce5d1c",
   "metadata": {},
   "outputs": [
    {
     "data": {
      "text/plain": [
       "<All keys matched successfully>"
      ]
     },
     "execution_count": 38,
     "metadata": {},
     "output_type": "execute_result"
    }
   ],
   "source": [
    "model.load_state_dict(torch.load(f'{trial_name}.pt'))"
   ]
  },
  {
   "cell_type": "code",
   "execution_count": 39,
   "id": "0d271516",
   "metadata": {},
   "outputs": [],
   "source": [
    "criterion = nn.L1Loss(reduction='none')\n",
    "model.eval()\n",
    "val_metric=[]\n",
    "val_loss=0\n",
    "t=time.time()\n",
    "preds=[]\n",
    "truths=[]\n",
    "masks=[]\n",
    "for step,batch in enumerate(val_dataloader):\n",
    "    features,targets,mask=batch\n",
    "    features=features.cuda()\n",
    "    targets=targets.cuda()\n",
    "    mask=mask.cuda()\n",
    "    with torch.no_grad():\n",
    "        output=model(features)\n",
    "\n",
    "        loss=criterion(output,targets)\n",
    "        loss=torch.masked_select(loss,mask)\n",
    "        loss=loss.mean()\n",
    "        val_loss+=loss.item()\n",
    "        preds.append(output.cpu())\n",
    "        truths.append(targets.cpu())\n",
    "        masks.append(mask.cpu())\n",
    "    \n",
    "preds=torch.cat(preds).numpy()\n",
    "truths=torch.cat(truths).numpy()\n",
    "masks=torch.cat(masks).numpy()"
   ]
  },
  {
   "cell_type": "code",
   "execution_count": 40,
   "id": "f122cff9",
   "metadata": {},
   "outputs": [
    {
     "data": {
      "text/plain": [
       "((7545, 80), (7545, 80), (7545, 80), 0.16398366831116756)"
      ]
     },
     "execution_count": 40,
     "metadata": {},
     "output_type": "execute_result"
    }
   ],
   "source": [
    "preds.shape,truths.shape,masks.shape,val_loss/(step+1)"
   ]
  },
  {
   "cell_type": "code",
   "execution_count": 41,
   "id": "b815d810",
   "metadata": {},
   "outputs": [],
   "source": [
    "np.save(f'boot{args.bootstrap_seed}.out',preds)\n",
    "np.save('masks',masks)\n",
    "np.save('truths',truths)"
   ]
  },
  {
   "cell_type": "markdown",
   "id": "49c67870",
   "metadata": {},
   "source": [
    "# load saved outputs and do simple average ensemble"
   ]
  },
  {
   "cell_type": "code",
   "execution_count": 49,
   "id": "51076cf8",
   "metadata": {},
   "outputs": [],
   "source": [
    "import numpy as np\n",
    "model_list = [1,2,3,4,5,6,7,8,9,0]\n",
    "#model_list = [2,1,6,0,9,3,4,5,7,8]\n",
    "masks = np.load('masks.npy')\n",
    "truths = np.load('truths.npy')"
   ]
  },
  {
   "cell_type": "code",
   "execution_count": 50,
   "id": "5cf4df6f",
   "metadata": {},
   "outputs": [
    {
     "name": "stdout",
     "output_type": "stream",
     "text": [
      "1 0.16272490364926695\n",
      "2 0.16055767727879988\n",
      "3 0.16542185780913005\n",
      "4 0.1657856118421627\n",
      "5 0.1672920470942518\n",
      "6 0.1631120904752757\n",
      "7 0.1686609383322564\n",
      "8 0.16881780502060723\n",
      "9 0.16416533823991689\n",
      "0 0.1639511686517119\n"
     ]
    }
   ],
   "source": [
    "avg_out = 0\n",
    "for model_id in model_list:\n",
    "    model_out = np.load(f'boot{model_id}.out.npy')\n",
    "    avg_out += model_out\n",
    "    err = (np.abs(model_out-truths)*masks).sum()/masks.sum()\n",
    "    print(model_id,err)"
   ]
  },
  {
   "cell_type": "code",
   "execution_count": 44,
   "id": "d7c44d12",
   "metadata": {
    "scrolled": true
   },
   "outputs": [
    {
     "name": "stdout",
     "output_type": "stream",
     "text": [
      "0.15241764686460363\n"
     ]
    }
   ],
   "source": [
    "avg_out /= len(model_list)\n",
    "err = (np.abs(avg_out-truths)*masks).sum()/masks.sum()\n",
    "print(err)"
   ]
  },
  {
   "cell_type": "code",
   "execution_count": 57,
   "id": "3f1788a5",
   "metadata": {},
   "outputs": [
    {
     "name": "stdout",
     "output_type": "stream",
     "text": [
      "1 0.16272490364926695\n",
      "2 0.1550026557165373\n",
      "3 0.15383834947455968\n",
      "4 0.15329139670633846\n",
      "5 0.1533416049614488\n",
      "6 0.1526957364732412\n",
      "7 0.15275788283248778\n",
      "8 0.15296014842542546\n",
      "9 0.1526185822116518\n",
      "10 0.15241764686460363\n"
     ]
    }
   ],
   "source": [
    "import matplotlib.pyplot as plt\n",
    "plt.rcParams[\"figure.figsize\"]=(8,6)\n",
    "ensemble_res = []\n",
    "for n in range(1,11):\n",
    "    avg_out = 0\n",
    "    for model_id in model_list[:n]:\n",
    "        model_out = np.load(f'boot{model_id}.out.npy')\n",
    "        avg_out += model_out\n",
    "    avg_out /= len(model_list[:n])\n",
    "    err = (np.abs(avg_out-truths)*masks).sum()/masks.sum()\n",
    "    print(n,err)\n",
    "    ensemble_res.append(err)"
   ]
  },
  {
   "cell_type": "code",
   "execution_count": 65,
   "id": "f92b9a15",
   "metadata": {},
   "outputs": [
    {
     "data": {
      "image/png": "[encoded data removed]",
      "text/plain": [
       "<Figure size 576x432 with 1 Axes>"
      ]
     },
     "metadata": {
      "needs_background": "light"
     },
     "output_type": "display_data"
    }
   ],
   "source": [
    "plt.plot(range(1,11),ensemble_res,marker='d',alpha=0.5)\n",
    "plt.xlabel('Number of Models',fontsize=20)\n",
    "plt.ylabel('Test L1 Error',fontsize=20)\n",
    "plt.xticks(range(1,11),fontsize=15)\n",
    "plt.yticks(fontsize=15)\n",
    "plt.savefig('ensemble.pdf',bbox_inches='tight')\n",
    "plt.show()"
   ]
  },
  {
   "cell_type": "code",
   "execution_count": 56,
   "id": "feab0411",
   "metadata": {},
   "outputs": [
    {
     "data": {
      "text/plain": [
       "[0.16272490364926695,\n",
       " 0.1550026557165373,\n",
       " 0.15383834947455968,\n",
       " 0.15329139670633846,\n",
       " 0.1533416049614488,\n",
       " 0.1526957364732412,\n",
       " 0.15275788283248778,\n",
       " 0.15296014842542546,\n",
       " 0.1526185822116518,\n",
       " 0.15241764686460363]"
      ]
     },
     "execution_count": 56,
     "metadata": {},
     "output_type": "execute_result"
    }
   ],
   "source": [
    "ensemble_res"
   ]
  },
  {
   "cell_type": "code",
   "execution_count": null,
   "id": "198b2d5a",
   "metadata": {},
   "outputs": [],
   "source": []
  }
 ],
 "metadata": {
  "kernelspec": {
   "display_name": "Python 3 (ipykernel)",
   "language": "python",
   "name": "python3"
  },
  "language_info": {
   "codemirror_mode": {
    "name": "ipython",
    "version": 3
   },
   "file_extension": ".py",
   "mimetype": "text/x-python",
   "name": "python",
   "nbconvert_exporter": "python",
   "pygments_lexer": "ipython3",
   "version": "3.9.7"
  }
 },
 "nbformat": 4,
 "nbformat_minor": 5
}
