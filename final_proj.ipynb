{
 "cells": [
  {
   "cell_type": "code",
   "execution_count": 1,
   "id": "66edc9db",
   "metadata": {},
   "outputs": [],
   "source": [
    "import numpy as np\n",
    "import pandas as pd\n",
    "import matplotlib.pyplot as plt"
   ]
  },
  {
   "cell_type": "code",
   "execution_count": 2,
   "id": "2419513e",
   "metadata": {},
   "outputs": [],
   "source": [
    "train = pd.read_csv('./train.csv')"
   ]
  },
  {
   "cell_type": "code",
   "execution_count": 3,
   "id": "978e170d",
   "metadata": {},
   "outputs": [
    {
     "data": {
      "image/png": "[encoded data removed]",
      "text/plain": [
       "<Figure size 432x288 with 1 Axes>"
      ]
     },
     "metadata": {
      "needs_background": "light"
     },
     "output_type": "display_data"
    },
    {
     "name": "stdout",
     "output_type": "stream",
     "text": [
      "Max pressure = 64.8209917386395 Min pressure = -1.895744294564641\n"
     ]
    }
   ],
   "source": [
    "%matplotlib inline\n",
    "plt.title('Histogram of Train Pressures',size=14)\n",
    "plt.hist(train.sample(100_000).pressure,bins=100)\n",
    "plt.show()\n",
    "print('Max pressure =',train.pressure.max(), 'Min pressure =',train.pressure.min())"
   ]
  },
  {
   "cell_type": "code",
   "execution_count": 7,
   "id": "1585b380",
   "metadata": {},
   "outputs": [
    {
     "name": "stdout",
     "output_type": "stream",
     "text": [
      "The number of unique pressure...\n",
      "950\n",
      "The first 25 unique pressures...\n",
      "[-1.895744294564641, -1.825442149113431, -1.7551400036622211, -1.6848378582110113, -1.6145357127597857, -1.544233567308576, -1.4739314218573505, -1.4036292764061404, -1.3333271309549148, -1.2630249855037048, -1.1927228400524794, -1.1224206946012694, -1.0521185491500595, -0.9818164036988496, -0.911514258247624, -0.8412121127964142, -0.7709099673451887, -0.7006078218939787, -0.6303056764427533, -0.5600035309915433, -0.4897013855403178, -0.4193992400891078, -0.3490970946378979, -0.278794949186688, -0.2084928037354625]\n",
      "The last 25 unique pressures...\n",
      "[63.13374024781031, 63.20404239326152, 63.274344538712725, 63.34464668416397, 63.41494882961518, 63.48525097506639, 63.5555531205176, 63.62585526596884, 63.696157411420046, 63.766459556871226, 63.836761702322434, 63.90706384777368, 63.977365993224886, 64.0476681386761, 64.11797028412731, 64.18827242957855, 64.25857457502975, 64.32887672048096, 64.39917886593219, 64.46948101138342, 64.53978315683463, 64.61008530228584, 64.68038744773705, 64.7506895931883, 64.8209917386395]\n"
     ]
    }
   ],
   "source": [
    "all_pressure = sorted( train.pressure.unique() )\n",
    "print('The number of unique pressure...')\n",
    "print(len(all_pressure))\n",
    "print('The first 25 unique pressures...')\n",
    "print(all_pressure[:25])\n",
    "print('The last 25 unique pressures...')\n",
    "print(all_pressure[len(all_pressure) - 25:len(all_pressure)])"
   ]
  },
  {
   "cell_type": "code",
   "execution_count": 5,
   "id": "96851d62",
   "metadata": {},
   "outputs": [
    {
     "name": "stdout",
     "output_type": "stream",
     "text": [
      "The differences between first 25 pressures...\n",
      "0.07030214545121005\n",
      "0.07030214545120983\n",
      "0.07030214545120983\n",
      "0.0703021454512256\n",
      "0.07030214545120961\n",
      "0.0703021454512256\n",
      "0.07030214545121005\n",
      "0.0703021454512256\n",
      "0.07030214545121005\n",
      "0.07030214545122537\n",
      "0.07030214545121005\n",
      "0.07030214545120983\n",
      "0.07030214545120994\n",
      "0.0703021454512256\n",
      "0.07030214545120983\n",
      "0.07030214545122548\n",
      "0.07030214545120994\n",
      "0.07030214545122548\n",
      "0.07030214545120994\n",
      "0.07030214545122554\n",
      "0.07030214545121\n",
      "0.07030214545120989\n",
      "0.07030214545120989\n",
      "0.07030214545122551\n",
      "0.07030214545120991\n"
     ]
    }
   ],
   "source": [
    "print('The differences between first 25 pressures...')\n",
    "for i in range(25):\n",
    "    print(all_pressure[i + 1] - all_pressure[i])"
   ]
  },
  {
   "cell_type": "code",
   "execution_count": null,
   "id": "d02f3623",
   "metadata": {},
   "outputs": [],
   "source": []
  }
 ],
 "metadata": {
  "kernelspec": {
   "display_name": "Python 3",
   "language": "python",
   "name": "python3"
  },
  "language_info": {
   "codemirror_mode": {
    "name": "ipython",
    "version": 3
   },
   "file_extension": ".py",
   "mimetype": "text/x-python",
   "name": "python",
   "nbconvert_exporter": "python",
   "pygments_lexer": "ipython3",
   "version": "3.7.11"
  }
 },
 "nbformat": 4,
 "nbformat_minor": 5
}
